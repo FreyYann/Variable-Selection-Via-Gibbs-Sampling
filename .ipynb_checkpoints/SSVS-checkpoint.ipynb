{
 "cells": [
  {
   "cell_type": "code",
   "execution_count": 1,
   "metadata": {
    "ExecuteTime": {
     "end_time": "2018-04-27T16:44:33.819662Z",
     "start_time": "2018-04-27T16:44:32.366094Z"
    },
    "collapsed": true
   },
   "outputs": [],
   "source": [
    "import numpy as np\n",
    "import pandas as pd\n",
    "import scipy\n",
    "#import seaborn as sns\n",
    "from numpy.linalg import inv\n",
    "from scipy.stats import invgamma\n",
    "from numpy import linalg as La\n",
    "import matplotlib.pyplot as plt\n",
    "from scipy.stats import itemfreq\n",
    "from scipy.stats import multivariate_normal\n",
    "import pdb as db"
   ]
  },
  {
   "cell_type": "markdown",
   "metadata": {},
   "source": [
    "## Experiment 1.1"
   ]
  },
  {
   "cell_type": "code",
   "execution_count": 20,
   "metadata": {
    "ExecuteTime": {
     "end_time": "2018-04-27T16:56:06.395572Z",
     "start_time": "2018-04-27T16:56:06.379605Z"
    },
    "collapsed": false
   },
   "outputs": [],
   "source": [
    "mu, sigma = 0, 1 # mean and standard deviation\n",
    "m,n=5,60\n",
    "data=np.zeros((n,m))\n",
    "\n",
    "for i in range(m):\n",
    "    s = np.random.normal(mu, sigma, n)\n",
    "    data[:,i]=s\n",
    "\n",
    "df=pd.DataFrame(data)\n",
    "df=df.rename(columns={0:'x1',1:'x2',2:'x3',3:'x4',4:'x5'})\n",
    "\n",
    "mu, sigma = 0, 2.5\n",
    "eps = np.random.normal(mu, sigma, n)\n",
    "target=df['x4']+1.2*df['x5']+eps"
   ]
  },
  {
   "cell_type": "code",
   "execution_count": 7,
   "metadata": {
    "ExecuteTime": {
     "end_time": "2018-04-27T16:48:41.125801Z",
     "start_time": "2018-04-27T16:48:41.111655Z"
    },
    "collapsed": false
   },
   "outputs": [
    {
     "data": {
      "text/html": [
       "<div>\n",
       "<style scoped>\n",
       "    .dataframe tbody tr th:only-of-type {\n",
       "        vertical-align: middle;\n",
       "    }\n",
       "\n",
       "    .dataframe tbody tr th {\n",
       "        vertical-align: top;\n",
       "    }\n",
       "\n",
       "    .dataframe thead th {\n",
       "        text-align: right;\n",
       "    }\n",
       "</style>\n",
       "<table border=\"1\" class=\"dataframe\">\n",
       "  <thead>\n",
       "    <tr style=\"text-align: right;\">\n",
       "      <th></th>\n",
       "      <th>x1</th>\n",
       "      <th>x2</th>\n",
       "      <th>x3</th>\n",
       "      <th>x4</th>\n",
       "      <th>x5</th>\n",
       "    </tr>\n",
       "  </thead>\n",
       "  <tbody>\n",
       "    <tr>\n",
       "      <th>0</th>\n",
       "      <td>0.317640</td>\n",
       "      <td>1.240063</td>\n",
       "      <td>0.157526</td>\n",
       "      <td>0.790140</td>\n",
       "      <td>-1.043167</td>\n",
       "    </tr>\n",
       "    <tr>\n",
       "      <th>1</th>\n",
       "      <td>1.471331</td>\n",
       "      <td>-0.042229</td>\n",
       "      <td>0.415386</td>\n",
       "      <td>-0.732802</td>\n",
       "      <td>-0.784271</td>\n",
       "    </tr>\n",
       "    <tr>\n",
       "      <th>2</th>\n",
       "      <td>0.453375</td>\n",
       "      <td>-0.003970</td>\n",
       "      <td>0.726393</td>\n",
       "      <td>0.384540</td>\n",
       "      <td>0.720648</td>\n",
       "    </tr>\n",
       "    <tr>\n",
       "      <th>3</th>\n",
       "      <td>0.340917</td>\n",
       "      <td>-0.508111</td>\n",
       "      <td>0.502497</td>\n",
       "      <td>-0.967315</td>\n",
       "      <td>-0.253593</td>\n",
       "    </tr>\n",
       "    <tr>\n",
       "      <th>4</th>\n",
       "      <td>0.086766</td>\n",
       "      <td>-0.188309</td>\n",
       "      <td>-0.212977</td>\n",
       "      <td>-0.701916</td>\n",
       "      <td>2.125630</td>\n",
       "    </tr>\n",
       "  </tbody>\n",
       "</table>\n",
       "</div>"
      ],
      "text/plain": [
       "         x1        x2        x3        x4        x5\n",
       "0  0.317640  1.240063  0.157526  0.790140 -1.043167\n",
       "1  1.471331 -0.042229  0.415386 -0.732802 -0.784271\n",
       "2  0.453375 -0.003970  0.726393  0.384540  0.720648\n",
       "3  0.340917 -0.508111  0.502497 -0.967315 -0.253593\n",
       "4  0.086766 -0.188309 -0.212977 -0.701916  2.125630"
      ]
     },
     "execution_count": 7,
     "metadata": {},
     "output_type": "execute_result"
    }
   ],
   "source": [
    "df.head()"
   ]
  },
  {
   "cell_type": "code",
   "execution_count": 21,
   "metadata": {
    "ExecuteTime": {
     "end_time": "2018-04-27T16:56:13.230010Z",
     "start_time": "2018-04-27T16:56:13.176702Z"
    },
    "collapsed": true
   },
   "outputs": [],
   "source": [
    "maxiters=5000\n",
    "data=df.values\n",
    "y=target.values\n",
    "pi,c,lambda_gamma,v=1/2, 10 ,1,0#data.shape[0]\n",
    "R=df.corr().values\n",
    "#R=np.zeros((5,5))\n",
    "#np.fill_diagonal(R,1)\n",
    "\n",
    "beta=np.zeros((maxiters,m))\n",
    "sigma=np.zeros((maxiters,1))\n",
    "r=np.zeros((maxiters,m))\n",
    "\n",
    "r[0]=np.ones(m)\n",
    "a=inv(np.matmul(data.T,data))\n",
    "b=np.matmul(data.T,y)\n",
    "beta[0]=np.matmul(a,b)\n",
    "\n",
    "sigma[0]=np.sqrt((y-(beta[0]*data).sum(1)).var())\n",
    "#db.set_trace()\n",
    "\n",
    "a=np.zeros((maxiters,m))\n",
    "a[np.where(r==0)[0],np.where(r==0)[1]]=1\n",
    "a[np.where(r==1)[0],np.where(r==1)[1]]=c\n",
    "\n",
    "ssxx=((data-data.mean(0))**2).sum(0)\n",
    "tau=sigma/np.sqrt(ssxx)\n",
    "\n",
    "temp=a*tau\n",
    "D=[]\n",
    "for i in range(temp.shape[0]):\n",
    "    D.append(np.diag(temp[0]))\n",
    "D=np.array(D)"
   ]
  },
  {
   "cell_type": "code",
   "execution_count": 58,
   "metadata": {
    "ExecuteTime": {
     "end_time": "2018-04-27T17:10:03.497041Z",
     "start_time": "2018-04-27T17:10:03.387498Z"
    },
    "collapsed": true
   },
   "outputs": [],
   "source": [
    "def get_A(sigma_1,x,D_1,R):\n",
    "    try:\n",
    "        A = sigma_1**(-2)*np.matmul(x.T,x)+np.matmul(np.matmul(inv(D_1).T,inv(R)),inv(D_1))##!!!!get rid of transpose\n",
    "    except:\n",
    "        db.set_trace()\n",
    "    return inv(A)\n",
    "      \n",
    "def get_beta(sigma_1,x,D_1,R,beta_ls):\n",
    "    \n",
    "    beta_ls=beta_ls.reshape((beta_ls.shape[0],1))\n",
    "    A=get_A(sigma_1,x,D_1,R)\n",
    "    \n",
    "    xx=np.matmul(x.T,x)\n",
    "    temp=np.matmul(A,xx)  #get ride of transpose!!!!!\n",
    "    temp=np.matmul(temp,beta_ls)# 5*1\n",
    "    \n",
    "    mean=(sigma_1**(-2)*temp).reshape(temp.shape[0])\n",
    "    cov=A#5*5\n",
    "    #db.set_trace()\n",
    "    beta=np.random.multivariate_normal(mean, cov, 1)[0]\n",
    "    #db.set_trace()\n",
    "    return beta\n",
    "    \n",
    "def get_sigma(n,y,beta,r,lambda_gamma,v):\n",
    "    \n",
    "\n",
    "    err=((y-(beta*data).sum(1))**2).sum()\n",
    "    a=(n+v)/2\n",
    "    scale=(err+v*lambda_gamma)/2\n",
    "    sig=invgamma.rvs(a=a,loc=0,scale=scale,size=1)\n",
    "    #db.set_trace()\n",
    "    return sig\n",
    "\n",
    "def get_gamma(idx,beta):\n",
    "    \n",
    "    r[idx]=r[idx-1]\n",
    "    sig=np.sqrt((y-(beta*data).sum(1)).var())\n",
    "    tau[idx]=sig/np.sqrt(ssxx)\n",
    "    \n",
    "    a1=np.zeros((m))\n",
    "    a1[r[idx]==0]=1\n",
    "    a1[r[idx]==1]=c\n",
    "    d=np.diag(a1*tau)\n",
    "    for i in range(0,len(beta)):\n",
    "        \n",
    "        a1[i]=c\n",
    "        d1=np.diag(a1*tau[idx])\n",
    "        mean1,sigma1=0,np.matmul(np.matmul(d1.T,R),d1)\n",
    "        aa=multivariate_normal.pdf(beta, mean=np.zeros(sigma1.shape[0]), cov=sigma1)\n",
    "        #aa=(1/np.sqrt(La.norm(sigma1)))*np.exp(-0.5*np.matmul(np.matmul(beta,inv(sigma1)),beta))\n",
    "        aa*=pi\n",
    "        \n",
    "        a2=a1.copy()\n",
    "        a2[i]=1\n",
    "        d2=np.diag(a2*tau[idx])\n",
    "        mean2,sigma2=0,np.matmul(np.matmul(d2.T,R),d2) \n",
    "        bb=multivariate_normal.pdf(beta, mean=np.zeros(sigma2.shape[0]), cov=sigma2)\n",
    "#        bb=(1/np.sqrt(La.norm(sigma2)))*np.exp(-0.5*np.matmul(np.matmul(beta,inv(sigma2)),beta))\n",
    "        bb*=(1-pi)\n",
    "        \n",
    "        if (aa+bb)!=0:  \n",
    "            p=aa/(aa+bb)\n",
    "        else:\n",
    "            db.set_trace()\n",
    "        \n",
    "        #db.set_trace()\n",
    "        \n",
    "        if p<0.5:\n",
    "            r[idx,i]=0\n",
    "        else:\n",
    "            r[idx,i]=1\n",
    "            \n",
    "    return r[idx]\n",
    "      "
   ]
  },
  {
   "cell_type": "code",
   "execution_count": 23,
   "metadata": {
    "ExecuteTime": {
     "end_time": "2018-04-27T16:56:28.909622Z",
     "start_time": "2018-04-27T16:56:17.715944Z"
    },
    "collapsed": true
   },
   "outputs": [],
   "source": [
    "for i in range(1,len(r)):#len(r)):\n",
    "    #db.set_trace()\n",
    "    beta[i]=get_beta(sigma[i-1],data,D[i-1],R,beta[0])\n",
    "    sigma[i]= get_sigma(n,y,beta[i],r[i-1],lambda_gamma,v)\n",
    "    r[i]=get_gamma(i,beta[i])\n",
    "    #db.set_trace()\n",
    "\n"
   ]
  },
  {
   "cell_type": "code",
   "execution_count": 24,
   "metadata": {
    "ExecuteTime": {
     "end_time": "2018-04-27T16:56:30.683422Z",
     "start_time": "2018-04-27T16:56:30.668640Z"
    },
    "collapsed": false
   },
   "outputs": [
    {
     "data": {
      "text/plain": [
       "[(array([1., 0., 0., 1., 1.]), 113),\n",
       " (array([1., 1., 0., 1., 0.]), 108),\n",
       " (array([0., 0., 1., 1., 1.]), 107),\n",
       " (array([1., 0., 1., 0., 1.]), 102),\n",
       " (array([0., 1., 1., 1., 0.]), 100)]"
      ]
     },
     "execution_count": 24,
     "metadata": {},
     "output_type": "execute_result"
    }
   ],
   "source": [
    "unique_elements, counts_elements = np.unique(r[2500:],axis=0, return_counts=True)\n",
    "rank=list(zip(unique_elements, counts_elements))\n",
    "rank=sorted(rank, key=lambda rank: rank[1],reverse=True) \n",
    "rank[:5]"
   ]
  },
  {
   "cell_type": "markdown",
   "metadata": {},
   "source": [
    "## Experiment 1.2"
   ]
  },
  {
   "cell_type": "code",
   "execution_count": 25,
   "metadata": {
    "ExecuteTime": {
     "end_time": "2018-04-27T16:57:57.815899Z",
     "start_time": "2018-04-27T16:57:57.803741Z"
    },
    "collapsed": false
   },
   "outputs": [],
   "source": [
    "mu, sigma = 0, 1 # mean and standard deviation\n",
    "m,n=5,60\n",
    "data=np.zeros((n,m))\n",
    "\n",
    "for i in range(m):\n",
    "    s = np.random.normal(mu, sigma, n)\n",
    "    data[:,i]=s\n",
    "\n",
    "df=pd.DataFrame(data)\n",
    "df=df.rename(columns={0:'x1',1:'x2',2:'x3',3:'x4',4:'x5'})\n",
    "df['x3']=df['x5']+0.15*np.random.normal(0,1,60)\n",
    "mu, sigma = 0, 2.5\n",
    "eps = np.random.normal(mu, sigma, n)\n",
    "target=df['x4']+1.2*df['x5']+eps"
   ]
  },
  {
   "cell_type": "code",
   "execution_count": 26,
   "metadata": {
    "ExecuteTime": {
     "end_time": "2018-04-27T16:57:59.508965Z",
     "start_time": "2018-04-27T16:57:59.460973Z"
    },
    "collapsed": true
   },
   "outputs": [],
   "source": [
    "maxiters=5000\n",
    "data=df.values\n",
    "y=target.values\n",
    "pi,c,lambda_gamma,v=1/2, 10 ,1,0#data.shape[0]\n",
    "R=df.corr().values\n",
    "#R=np.zeros((5,5))\n",
    "#np.fill_diagonal(R,1)\n",
    "\n",
    "beta=np.zeros((maxiters,m))\n",
    "sigma=np.zeros((maxiters,1))\n",
    "r=np.zeros((maxiters,m))\n",
    "\n",
    "r[0]=np.ones(m)\n",
    "a=inv(np.matmul(data.T,data))\n",
    "b=np.matmul(data.T,y)\n",
    "beta[0]=np.matmul(a,b)\n",
    "\n",
    "sigma[0]=np.sqrt((y-(beta[0]*data).sum(1)).var())\n",
    "#db.set_trace()\n",
    "\n",
    "a=np.zeros((maxiters,m))\n",
    "a[np.where(r==0)[0],np.where(r==0)[1]]=1\n",
    "a[np.where(r==1)[0],np.where(r==1)[1]]=c\n",
    "\n",
    "ssxx=((data-data.mean(0))**2).sum(0)\n",
    "tau=sigma/np.sqrt(ssxx)\n",
    "\n",
    "temp=a*tau\n",
    "D=[]\n",
    "for i in range(temp.shape[0]):\n",
    "    D.append(np.diag(temp[0]))\n",
    "D=np.array(D)"
   ]
  },
  {
   "cell_type": "code",
   "execution_count": 44,
   "metadata": {
    "ExecuteTime": {
     "end_time": "2018-04-27T02:30:58.260003Z",
     "start_time": "2018-04-27T02:30:58.255421Z"
    },
    "collapsed": false
   },
   "outputs": [
    {
     "name": "stdout",
     "output_type": "stream",
     "text": [
      "[ 1.         -0.16164442 -0.06060787 -0.16244333 -0.06743702]\n",
      "[-0.16164442  1.          0.0779122   0.11722447  0.06918207]\n",
      "[-6.06078718e-02  7.79121963e-02  1.00000000e+00  3.08230900e-04\n",
      "  9.82596966e-01]\n",
      "[-1.62443335e-01  1.17224472e-01  3.08230900e-04  1.00000000e+00\n",
      "  6.48455304e-02]\n",
      "[-0.06743702  0.06918207  0.98259697  0.06484553  1.        ]\n"
     ]
    }
   ],
   "source": [
    "for i in range(len(R)):\n",
    "    print(R[i])"
   ]
  },
  {
   "cell_type": "code",
   "execution_count": 27,
   "metadata": {
    "ExecuteTime": {
     "end_time": "2018-04-27T16:58:20.200644Z",
     "start_time": "2018-04-27T16:58:08.958613Z"
    },
    "collapsed": true
   },
   "outputs": [],
   "source": [
    "for i in range(1,len(r)):#len(r)):\n",
    "    #db.set_trace()\n",
    "    beta[i]=get_beta(sigma[i-1],data,D[i-1],R,beta[0])\n",
    "    sigma[i]= get_sigma(n,y,beta[i],r[i-1],lambda_gamma,v)\n",
    "    r[i]=get_gamma(i,beta[i])\n",
    "    #db.set_trace()\n",
    "    "
   ]
  },
  {
   "cell_type": "code",
   "execution_count": 28,
   "metadata": {
    "ExecuteTime": {
     "end_time": "2018-04-27T16:58:21.062828Z",
     "start_time": "2018-04-27T16:58:21.047165Z"
    },
    "collapsed": false
   },
   "outputs": [
    {
     "data": {
      "text/plain": [
       "[(array([0., 1., 1., 1., 1.]), 322),\n",
       " (array([0., 0., 1., 1., 1.]), 277),\n",
       " (array([1., 0., 1., 1., 1.]), 276),\n",
       " (array([0., 1., 1., 0., 1.]), 230),\n",
       " (array([1., 1., 1., 1., 1.]), 224)]"
      ]
     },
     "execution_count": 28,
     "metadata": {},
     "output_type": "execute_result"
    }
   ],
   "source": [
    "unique_elements, counts_elements = np.unique(r[2500:],axis=0, return_counts=True)\n",
    "rank=list(zip(unique_elements, counts_elements))\n",
    "rank=sorted(rank, key=lambda rank: rank[1],reverse=True) \n",
    "rank[:5]"
   ]
  },
  {
   "cell_type": "markdown",
   "metadata": {},
   "source": [
    "## Experiment 2.1"
   ]
  },
  {
   "cell_type": "code",
   "execution_count": 89,
   "metadata": {
    "ExecuteTime": {
     "end_time": "2018-04-27T17:29:33.235694Z",
     "start_time": "2018-04-27T17:29:33.229635Z"
    },
    "collapsed": true
   },
   "outputs": [],
   "source": [
    "def normalize(x):\n",
    "    for fea in list(x):\n",
    "        #db.set_trace()\n",
    "        if x[fea].dtype in ['float32','int64','float64','int32'] and \\\n",
    "                            len(x[fea].value_counts().values)>45:\n",
    "            interval=x[fea].quantile([0.001,0.999]).values\n",
    "            x[fea]=(x[fea]-interval[0])/(interval[1]-interval[0])\n",
    "    return x"
   ]
  },
  {
   "cell_type": "code",
   "execution_count": 90,
   "metadata": {
    "ExecuteTime": {
     "end_time": "2018-04-27T17:29:38.575602Z",
     "start_time": "2018-04-27T17:29:35.159811Z"
    },
    "collapsed": false
   },
   "outputs": [
    {
     "name": "stderr",
     "output_type": "stream",
     "text": [
      "/Users/yanxinzhou/.pyenv/versions/anaconda3-4.2.0/lib/python3.5/site-packages/ipykernel/__main__.py:6: SettingWithCopyWarning: \n",
      "A value is trying to be set on a copy of a slice from a DataFrame.\n",
      "Try using .loc[row_indexer,col_indexer] = value instead\n",
      "\n",
      "See the caveats in the documentation: http://pandas.pydata.org/pandas-docs/stable/indexing.html#indexing-view-versus-copy\n"
     ]
    }
   ],
   "source": [
    "import pickle\n",
    "\n",
    "path='/Users/yanxinzhou/course/review/2016_NYC_Yellow_Cab_trip_record_data/data/'\n",
    "pkl_file = open(path+'2018-03-31_00_38_train.pkl', 'rb')\n",
    "df=pickle.load(pkl_file)\n",
    "\n",
    "fea=[\n",
    " 'trip_duration',\n",
    " 'distance',\n",
    " 't_sin_hour',\n",
    " 't_cos_hour',\n",
    " 't_sin_day',\n",
    " 't_cos_day',\n",
    " 'holiday',\n",
    " 'number_of_steps',\n",
    " 'total_distance',\n",
    " 'minimum temperature'\n",
    "]\n",
    "\n",
    "train=df[fea]\n",
    "train=normalize(train)\n",
    "target=train['trip_duration']\n",
    "del train['trip_duration']\n",
    "train=train[:5000]\n",
    "target=target[:5000]\n"
   ]
  },
  {
   "cell_type": "code",
   "execution_count": 94,
   "metadata": {
    "ExecuteTime": {
     "end_time": "2018-04-27T17:30:13.044021Z",
     "start_time": "2018-04-27T17:30:12.839052Z"
    },
    "collapsed": false
   },
   "outputs": [],
   "source": [
    "maxiters=5000\n",
    "data=train.values\n",
    "y=target.values\n",
    "m,n=len(list(train)),len(data)\n",
    "pi,c,lambda_gamma,v=0.6, 10 ,1,0#data.shape[0]\n",
    "R=train.cov().values\n",
    "#R=np.zeros((5,5))\n",
    "#np.fill_diagonal(R,1)\n",
    "\n",
    "beta=np.zeros((maxiters,m))\n",
    "sigma=np.zeros((maxiters,1))\n",
    "r=np.zeros((maxiters,m))\n",
    "\n",
    "r[0]=np.ones(m)\n",
    "a=inv(np.matmul(data.T,data))\n",
    "b=np.matmul(data.T,y)\n",
    "beta[0]=np.matmul(a,b)\n",
    "\n",
    "sigma[0]=np.sqrt((y-(beta[0]*data).sum(1)).var())\n",
    "#db.set_trace()\n",
    "\n",
    "a=np.zeros((maxiters,m))\n",
    "a[np.where(r==0)[0],np.where(r==0)[1]]=1\n",
    "a[np.where(r==1)[0],np.where(r==1)[1]]=c\n",
    "\n",
    "ssxx=((data-data.mean(0))**2).sum(0)\n",
    "tau=sigma/np.sqrt(ssxx)\n",
    "\n",
    "temp=a*tau\n",
    "D=[]\n",
    "for i in range(temp.shape[0]):\n",
    "    D.append(np.diag(temp[0]))\n",
    "D=np.array(D)"
   ]
  },
  {
   "cell_type": "code",
   "execution_count": null,
   "metadata": {
    "ExecuteTime": {
     "start_time": "2018-04-27T22:30:14.981Z"
    },
    "collapsed": false
   },
   "outputs": [],
   "source": [
    "for i in range(1,len(r)):#len(r)):\n",
    "    #db.set_trace()\n",
    "    beta[i]=get_beta(sigma[i-1],data,D[i-1],R,beta[0])\n",
    "    sigma[i]= get_sigma(n,y,beta[i],r[i-1],lambda_gamma,v)\n",
    "    r[i]=get_gamma(i,beta[i])\n",
    "    #db.set_trace()\n",
    "    "
   ]
  },
  {
   "cell_type": "code",
   "execution_count": 83,
   "metadata": {
    "ExecuteTime": {
     "end_time": "2018-04-27T17:19:00.989684Z",
     "start_time": "2018-04-27T17:19:00.973631Z"
    },
    "collapsed": false
   },
   "outputs": [
    {
     "data": {
      "text/plain": [
       "[(array([1., 1., 1., 1., 1., 1., 1., 1., 1.]), 2500)]"
      ]
     },
     "execution_count": 83,
     "metadata": {},
     "output_type": "execute_result"
    }
   ],
   "source": [
    "unique_elements, counts_elements = np.unique(r[2500:],axis=0, return_counts=True)\n",
    "rank=list(zip(unique_elements, counts_elements))\n",
    "rank=sorted(rank, key=lambda rank: rank[1],reverse=True) \n",
    "rank[:5]"
   ]
  },
  {
   "cell_type": "code",
   "execution_count": 85,
   "metadata": {
    "ExecuteTime": {
     "end_time": "2018-04-27T17:19:19.654902Z",
     "start_time": "2018-04-27T17:19:19.649786Z"
    },
    "collapsed": false
   },
   "outputs": [
    {
     "data": {
      "text/plain": [
       "array([[ 5.60452390e+01, -1.46020707e+01, -1.66835212e+02, ...,\n",
       "         5.63388650e+01,  2.45725515e-02,  6.28319303e+00],\n",
       "       [ 0.00000000e+00,  0.00000000e+00,  0.00000000e+00, ...,\n",
       "         0.00000000e+00,  0.00000000e+00,  0.00000000e+00],\n",
       "       [ 0.00000000e+00,  0.00000000e+00,  0.00000000e+00, ...,\n",
       "         0.00000000e+00,  0.00000000e+00,  0.00000000e+00],\n",
       "       ...,\n",
       "       [ 0.00000000e+00,  0.00000000e+00,  0.00000000e+00, ...,\n",
       "         0.00000000e+00,  0.00000000e+00,  0.00000000e+00],\n",
       "       [ 0.00000000e+00,  0.00000000e+00,  0.00000000e+00, ...,\n",
       "         0.00000000e+00,  0.00000000e+00,  0.00000000e+00],\n",
       "       [ 0.00000000e+00,  0.00000000e+00,  0.00000000e+00, ...,\n",
       "         0.00000000e+00,  0.00000000e+00,  0.00000000e+00]])"
      ]
     },
     "execution_count": 85,
     "metadata": {},
     "output_type": "execute_result"
    }
   ],
   "source": [
    "beta[:-5]"
   ]
  },
  {
   "cell_type": "code",
   "execution_count": null,
   "metadata": {
    "collapsed": true
   },
   "outputs": [],
   "source": []
  }
 ],
 "metadata": {
  "anaconda-cloud": {},
  "kernelspec": {
   "display_name": "Python [conda root]",
   "language": "python",
   "name": "conda-root-py"
  },
  "language_info": {
   "codemirror_mode": {
    "name": "ipython",
    "version": 3
   },
   "file_extension": ".py",
   "mimetype": "text/x-python",
   "name": "python",
   "nbconvert_exporter": "python",
   "pygments_lexer": "ipython3",
   "version": "3.5.2"
  },
  "latex_envs": {
   "LaTeX_envs_menu_present": true,
   "autoclose": true,
   "autocomplete": false,
   "bibliofile": "biblio.bib",
   "cite_by": "apalike",
   "current_citInitial": 1,
   "eqLabelWithNumbers": true,
   "eqNumInitial": 1,
   "hotkeys": {
    "equation": "Ctrl-E",
    "itemize": "Ctrl-I"
   },
   "labels_anchors": false,
   "latex_user_defs": false,
   "report_style_numbering": false,
   "user_envs_cfg": false
  },
  "toc": {
   "nav_menu": {},
   "number_sections": true,
   "sideBar": true,
   "skip_h1_title": false,
   "title_cell": "Table of Contents",
   "title_sidebar": "Contents",
   "toc_cell": false,
   "toc_position": {
    "height": "calc(100% - 180px)",
    "left": "10px",
    "top": "150px",
    "width": "512px"
   },
   "toc_section_display": true,
   "toc_window_display": true
  },
  "varInspector": {
   "cols": {
    "lenName": 16,
    "lenType": 16,
    "lenVar": 40
   },
   "kernels_config": {
    "python": {
     "delete_cmd_postfix": "",
     "delete_cmd_prefix": "del ",
     "library": "var_list.py",
     "varRefreshCmd": "print(var_dic_list())"
    },
    "r": {
     "delete_cmd_postfix": ") ",
     "delete_cmd_prefix": "rm(",
     "library": "var_list.r",
     "varRefreshCmd": "cat(var_dic_list()) "
    }
   },
   "types_to_exclude": [
    "module",
    "function",
    "builtin_function_or_method",
    "instance",
    "_Feature"
   ],
   "window_display": false
  }
 },
 "nbformat": 4,
 "nbformat_minor": 1
}
