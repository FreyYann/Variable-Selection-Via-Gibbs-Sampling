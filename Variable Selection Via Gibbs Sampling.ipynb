{
 "cells": [
  {
   "cell_type": "code",
   "execution_count": 10,
   "metadata": {
    "ExecuteTime": {
     "end_time": "2018-04-21T00:11:27.832320Z",
     "start_time": "2018-04-21T00:11:27.826894Z"
    },
    "collapsed": false
   },
   "outputs": [],
   "source": [
    "import numpy as np\n",
    "import pandas as pd\n",
    "import scipy\n",
    "%matplotlib inline\n",
    "import seaborn as sns\n",
    "import matplotlib.pyplot as plt"
   ]
  },
  {
   "cell_type": "markdown",
   "metadata": {},
   "source": [
    "##  Gibbs sampling for Bayesian linear regression"
   ]
  },
  {
   "cell_type": "code",
   "execution_count": 15,
   "metadata": {
    "ExecuteTime": {
     "end_time": "2018-04-21T00:13:12.600627Z",
     "start_time": "2018-04-21T00:13:12.595442Z"
    },
    "collapsed": false
   },
   "outputs": [],
   "source": [
    "def sample_beta_0(y, x, beta_1, tau, mu_0, tau_0):\n",
    "    N = len(y)\n",
    "    assert len(x) == N\n",
    "    precision = tau_0 + tau * N\n",
    "    mean = tau_0 * mu_0 + tau * np.sum(y - beta_1 * x)\n",
    "    mean /= precision\n",
    "    return np.random.normal(mean, 1 / np.sqrt(precision))"
   ]
  },
  {
   "cell_type": "code",
   "execution_count": 23,
   "metadata": {
    "ExecuteTime": {
     "end_time": "2018-04-21T00:16:18.390598Z",
     "start_time": "2018-04-21T00:16:18.385338Z"
    },
    "collapsed": true
   },
   "outputs": [],
   "source": [
    "def sample_beta_1(y, x, beta_0, tau, mu_1, tau_1):\n",
    "    N = len(y)\n",
    "    assert len(x) == N\n",
    "    precision = tau_1 + tau * np.sum(x * x)\n",
    "    mean = tau_1 * mu_1 + tau * np.sum( (y - beta_0) * x)\n",
    "    mean /= precision\n",
    "    return np.random.normal(mean, 1 / np.sqrt(precision))"
   ]
  },
  {
   "cell_type": "code",
   "execution_count": 16,
   "metadata": {
    "ExecuteTime": {
     "end_time": "2018-04-21T00:14:05.134766Z",
     "start_time": "2018-04-21T00:14:05.129886Z"
    },
    "collapsed": false
   },
   "outputs": [],
   "source": [
    "def sample_tau(y, x, beta_0, beta_1, alpha, beta):\n",
    "    N = len(y)\n",
    "    alpha_new = alpha + N / 2\n",
    "    resid = y - beta_0 - beta_1 * x\n",
    "    beta_new = beta + np.sum(resid * resid) / 2\n",
    "    return np.random.gamma(alpha_new, 1 / beta_new)"
   ]
  },
  {
   "cell_type": "code",
   "execution_count": 17,
   "metadata": {
    "ExecuteTime": {
     "end_time": "2018-04-21T00:14:37.815796Z",
     "start_time": "2018-04-21T00:14:37.625365Z"
    },
    "collapsed": false
   },
   "outputs": [
    {
     "data": {
      "text/plain": [
       "<matplotlib.text.Text at 0x1a143df898>"
      ]
     },
     "execution_count": 17,
     "metadata": {},
     "output_type": "execute_result"
    },
    {
     "data": {
      "image/png": "[encoded data removed]",
      "text/plain": [
       "<matplotlib.figure.Figure at 0x1a141ad6a0>"
      ]
     },
     "metadata": {},
     "output_type": "display_data"
    }
   ],
   "source": [
    "beta_0_true = -1\n",
    "beta_1_true = 2\n",
    "tau_true = 1\n",
    "\n",
    "N = 50\n",
    "x = np.random.uniform(low = 0, high = 4, size = N)\n",
    "y = np.random.normal(beta_0_true + beta_1_true * x, 1 / np.sqrt(tau_true))\n",
    "\n",
    "synth_plot = plt.plot(x, y, \"o\")\n",
    "plt.xlabel(\"x\")\n",
    "plt.ylabel(\"y\")"
   ]
  },
  {
   "cell_type": "code",
   "execution_count": 18,
   "metadata": {
    "ExecuteTime": {
     "end_time": "2018-04-21T00:15:20.626956Z",
     "start_time": "2018-04-21T00:15:20.622534Z"
    },
    "collapsed": true
   },
   "outputs": [],
   "source": [
    "## specify initial values\n",
    "init = {\"beta_0\": 0,\n",
    "        \"beta_1\": 0,\n",
    "        \"tau\": 2}\n",
    "\n",
    "## specify hyper parameters\n",
    "hypers = {\"mu_0\": 0,\n",
    "         \"tau_0\": 1,\n",
    "         \"mu_1\": 0,\n",
    "         \"tau_1\": 1,\n",
    "         \"alpha\": 2,\n",
    "         \"beta\": 1}"
   ]
  },
  {
   "cell_type": "code",
   "execution_count": 22,
   "metadata": {
    "ExecuteTime": {
     "end_time": "2018-04-21T00:16:02.171475Z",
     "start_time": "2018-04-21T00:16:02.159233Z"
    },
    "collapsed": true
   },
   "outputs": [],
   "source": [
    "def gibbs(y, x, iters, init, hypers):\n",
    "    assert len(y) == len(x)\n",
    "    beta_0 = init[\"beta_0\"]\n",
    "    beta_1 = init[\"beta_1\"]\n",
    "    tau = init[\"tau\"]\n",
    "    \n",
    "    trace = np.zeros((iters, 3)) ## trace to store values of beta_0, beta_1, tau\n",
    "    \n",
    "    for it in range(iters):\n",
    "        beta_0 = sample_beta_0(y, x, beta_1, tau, hypers[\"mu_0\"], hypers[\"tau_0\"])\n",
    "        beta_1 = sample_beta_1(y, x, beta_0, tau, hypers[\"mu_1\"], hypers[\"tau_1\"])\n",
    "        tau = sample_tau(y, x, beta_0, beta_1, hypers[\"alpha\"], hypers[\"beta\"])\n",
    "        trace[it,:] = np.array((beta_0, beta_1, tau))\n",
    "        \n",
    "    trace = pd.DataFrame(trace)\n",
    "    trace.columns = ['beta_0', 'beta_1', 'tau']\n",
    "        \n",
    "    return trace"
   ]
  },
  {
   "cell_type": "code",
   "execution_count": 24,
   "metadata": {
    "ExecuteTime": {
     "end_time": "2018-04-21T00:16:22.339412Z",
     "start_time": "2018-04-21T00:16:22.246494Z"
    },
    "collapsed": false
   },
   "outputs": [],
   "source": [
    "iters = 1000\n",
    "trace = gibbs(y, x, iters, init, hypers)"
   ]
  },
  {
   "cell_type": "code",
   "execution_count": 25,
   "metadata": {
    "ExecuteTime": {
     "end_time": "2018-04-21T00:16:40.093592Z",
     "start_time": "2018-04-21T00:16:39.769298Z"
    },
    "collapsed": false
   },
   "outputs": [
    {
     "data": {
      "text/plain": [
       "<matplotlib.text.Text at 0x1a14582940>"
      ]
     },
     "execution_count": 25,
     "metadata": {},
     "output_type": "execute_result"
    },
    {
     "data": {
      "image/png": "[encoded data removed]",
      "text/plain": [
       "<matplotlib.figure.Figure at 0x1a1407cb38>"
      ]
     },
     "metadata": {},
     "output_type": "display_data"
    }
   ],
   "source": [
    "traceplot = trace.plot()\n",
    "traceplot.set_xlabel(\"Iteration\")\n",
    "traceplot.set_ylabel(\"Parameter value\")"
   ]
  },
  {
   "cell_type": "code",
   "execution_count": 27,
   "metadata": {
    "ExecuteTime": {
     "end_time": "2018-04-21T00:18:02.996543Z",
     "start_time": "2018-04-21T00:18:02.985729Z"
    },
    "collapsed": false
   },
   "outputs": [
    {
     "name": "stdout",
     "output_type": "stream",
     "text": [
      "beta_0   -1.108990\n",
      "beta_1    2.010500\n",
      "tau       1.336245\n",
      "dtype: float64\n",
      "beta_0    0.255831\n",
      "beta_1    0.108846\n",
      "tau       0.275040\n",
      "dtype: float64\n"
     ]
    }
   ],
   "source": [
    "trace_burnt = trace[500:999]\n",
    "#hist_plot = trace_burnt.hist(bins = 30, layout = (1,3))\n",
    "print(trace_burnt.median())\n",
    "print(trace_burnt.std())"
   ]
  },
  {
   "cell_type": "code",
   "execution_count": null,
   "metadata": {
    "collapsed": true
   },
   "outputs": [],
   "source": []
  }
 ],
 "metadata": {
  "anaconda-cloud": {},
  "gist": {
   "data": {
    "description": "",
    "public": true
   },
   "id": ""
  },
  "kernelspec": {
   "display_name": "Python [conda root]",
   "language": "python",
   "name": "conda-root-py"
  },
  "language_info": {
   "codemirror_mode": {
    "name": "ipython",
    "version": 3
   },
   "file_extension": ".py",
   "mimetype": "text/x-python",
   "name": "python",
   "nbconvert_exporter": "python",
   "pygments_lexer": "ipython3",
   "version": "3.5.2"
  },
  "latex_envs": {
   "LaTeX_envs_menu_present": true,
   "autoclose": true,
   "autocomplete": false,
   "bibliofile": "biblio.bib",
   "cite_by": "apalike",
   "current_citInitial": 1,
   "eqLabelWithNumbers": true,
   "eqNumInitial": 1,
   "hotkeys": {
    "equation": "Ctrl-E",
    "itemize": "Ctrl-I"
   },
   "labels_anchors": false,
   "latex_user_defs": false,
   "report_style_numbering": false,
   "user_envs_cfg": false
  },
  "toc": {
   "nav_menu": {},
   "number_sections": true,
   "sideBar": true,
   "skip_h1_title": false,
   "title_cell": "Table of Contents",
   "title_sidebar": "Contents",
   "toc_cell": false,
   "toc_position": {},
   "toc_section_display": true,
   "toc_window_display": true
  },
  "varInspector": {
   "cols": {
    "lenName": 16,
    "lenType": 16,
    "lenVar": 40
   },
   "kernels_config": {
    "python": {
     "delete_cmd_postfix": "",
     "delete_cmd_prefix": "del ",
     "library": "var_list.py",
     "varRefreshCmd": "print(var_dic_list())"
    },
    "r": {
     "delete_cmd_postfix": ") ",
     "delete_cmd_prefix": "rm(",
     "library": "var_list.r",
     "varRefreshCmd": "cat(var_dic_list()) "
    }
   },
   "types_to_exclude": [
    "module",
    "function",
    "builtin_function_or_method",
    "instance",
    "_Feature"
   ],
   "window_display": false
  }
 },
 "nbformat": 4,
 "nbformat_minor": 1
}
